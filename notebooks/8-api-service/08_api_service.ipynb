{
  "cells": [
    {
      "cell_type": "markdown",
      "metadata": {},
      "source": [
        "# 8. REST API Service for Document Processing\n",
        "\n",
        "This notebook demonstrates how to start and interact with our FastAPI service that exposes the complete OCR pipeline via REST endpoints.\n",
        "\n",
        "> **📖 For detailed explanations** of API design decisions, technology choices, and production considerations, see the [README.md](./README.md) in this folder.\n",
        "\n",
        "**What We'll Build**\n",
        "\n",
        "- FastAPI service with document upload endpoints\n",
        "- Real-time processing status tracking\n",
        "- Web interface for testing document uploads\n",
        "- Integration with complete infrastructure stack\n",
        "\n",
        "### API Endpoints Overview\n",
        "\n",
        "Our service provides these REST endpoints:\n",
        "- `POST /api/v1/upload` - Upload PDF documents for processing\n",
        "- `GET /api/v1/status/{id}` - Check document processing status\n",
        "- `GET /api/v1/results/{id}` - Retrieve extraction results\n",
        "- `GET /api/v1/visualization/{id}` - Get OCR overlay images\n",
        "- `GET /api/v1/health` - Service health check\n",
        "- `GET /` - Web interface for testing\n",
        "- `GET /docs` - Interactive API documentation\n"
      ]
    },
    {
      "cell_type": "markdown",
      "metadata": {},
      "source": [
        "## 1. Prerequisites & Setup\n"
      ]
    },
    {
      "cell_type": "code",
      "execution_count": 1,
      "metadata": {},
      "outputs": [
        {
          "name": "stdout",
          "output_type": "stream",
          "text": [
            "Project root: /Users/markuskuehnle/Documents/projects/credit-ocr-system\n",
            "Current working directory: /Users/markuskuehnle/Documents/projects/credit-ocr-system/notebooks/8-api-service\n",
            "Python path includes: True\n"
          ]
        }
      ],
      "source": [
        "import sys\n",
        "import os\n",
        "import time\n",
        "import subprocess\n",
        "import threading\n",
        "import webbrowser\n",
        "import requests\n",
        "from pathlib import Path\n",
        "\n",
        "# Add project root to Python path\n",
        "project_root = Path().cwd().parent.parent\n",
        "sys.path.insert(0, str(project_root))\n",
        "\n",
        "print(f\"Project root: {project_root}\")\n",
        "print(f\"Current working directory: {Path.cwd()}\")\n",
        "print(f\"Python path includes: {project_root in [Path(p) for p in sys.path]}\")\n"
      ]
    },
    {
      "cell_type": "markdown",
      "metadata": {},
      "source": [
        "## 2. Infrastructure Startup\n",
        "\n",
        "Start the required infrastructure services (PostgreSQL, Redis, Azurite) using Docker Compose.\n"
      ]
    },
    {
      "cell_type": "code",
      "execution_count": 2,
      "metadata": {},
      "outputs": [
        {
          "name": "stdout",
          "output_type": "stream",
          "text": [
            "Starting infrastructure services...\n",
            "Infrastructure services started successfully\n",
            "Output: \n",
            "Waiting for services to initialize...\n"
          ]
        }
      ],
      "source": [
        "def start_infrastructure():\n",
        "    \"\"\"Start required infrastructure services.\"\"\"\n",
        "    print(\"Starting infrastructure services...\")\n",
        "    \n",
        "    # Change to project root for docker-compose\n",
        "    os.chdir(project_root)\n",
        "    \n",
        "    # Start required services\n",
        "    services = [\"postgres\", \"redis\", \"azurite\"]\n",
        "    \n",
        "    try:\n",
        "        result = subprocess.run(\n",
        "            [\"docker-compose\", \"up\", \"-d\"] + services,\n",
        "            capture_output=True,\n",
        "            text=True,\n",
        "            check=True\n",
        "        )\n",
        "        print(\"Infrastructure services started successfully\")\n",
        "        print(f\"Output: {result.stdout}\")\n",
        "        \n",
        "        # Wait a moment for services to initialize\n",
        "        print(\"Waiting for services to initialize...\")\n",
        "        time.sleep(5)\n",
        "        \n",
        "        return True\n",
        "        \n",
        "    except subprocess.CalledProcessError as e:\n",
        "        print(f\"Error starting infrastructure: {e}\")\n",
        "        print(f\"Error output: {e.stderr}\")\n",
        "        return False\n",
        "\n",
        "# Start infrastructure\n",
        "infrastructure_started = start_infrastructure()\n"
      ]
    },
    {
      "cell_type": "markdown",
      "metadata": {},
      "source": [
        "## 3. API Service Configuration\n",
        "\n",
        "Configure environment variables and check our API service is ready to start.\n"
      ]
    },
    {
      "cell_type": "code",
      "execution_count": 3,
      "metadata": {},
      "outputs": [
        {
          "name": "stdout",
          "output_type": "stream",
          "text": [
            "API will be available at: http://127.0.0.1:8000\n",
            "Web interface: http://127.0.0.1:8000/\n",
            "API documentation: http://127.0.0.1:8000/docs\n",
            "Health check: http://127.0.0.1:8000/api/v1/health\n"
          ]
        }
      ],
      "source": [
        "# Set environment variables for API service\n",
        "os.environ[\"API_DEBUG\"] = \"true\"\n",
        "os.environ[\"API_PORT\"] = \"8000\"\n",
        "os.environ[\"API_HOST\"] = \"127.0.0.1\"\n",
        "os.environ[\"ENVIRONMENT\"] = \"development\"\n",
        "os.environ[\"DATABASE_HOST\"] = \"localhost\"\n",
        "os.environ[\"REDIS_HOST\"] = \"localhost\"\n",
        "os.environ[\"ENABLE_BACKGROUND_PROCESSING\"] = \"true\"\n",
        "\n",
        "# API service configuration\n",
        "API_HOST = os.environ[\"API_HOST\"]\n",
        "API_PORT = int(os.environ[\"API_PORT\"])\n",
        "API_BASE_URL = f\"http://{API_HOST}:{API_PORT}\"\n",
        "\n",
        "print(f\"API will be available at: {API_BASE_URL}\")\n",
        "print(f\"Web interface: {API_BASE_URL}/\")\n",
        "print(f\"API documentation: {API_BASE_URL}/docs\")\n",
        "print(f\"Health check: {API_BASE_URL}/api/v1/health\")\n"
      ]
    },
    {
      "cell_type": "markdown",
      "metadata": {},
      "source": [
        "## 4. Start API Service\n",
        "\n",
        "Launch the FastAPI service in a background thread so we can continue using the notebook.\n"
      ]
    },
    {
      "cell_type": "code",
      "execution_count": 4,
      "metadata": {},
      "outputs": [
        {
          "name": "stdout",
          "output_type": "stream",
          "text": [
            "Starting FastAPI service...\n",
            "API service started with PID: 14131\n",
            "Waiting for API service to start...\n",
            "API service is ready and healthy!\n"
          ]
        }
      ],
      "source": [
        "# Global variable to track API process\n",
        "api_process = None\n",
        "\n",
        "def start_api_service():\n",
        "    \"\"\"Start the FastAPI service in a subprocess.\"\"\"\n",
        "    global api_process\n",
        "    \n",
        "    if api_process is not None:\n",
        "        print(\"API service is already running\")\n",
        "        return\n",
        "    \n",
        "    print(\"Starting FastAPI service...\")\n",
        "    \n",
        "    # Change to project root\n",
        "    os.chdir(project_root)\n",
        "    \n",
        "    try:\n",
        "        # Start the API service using our run_api.py script\n",
        "        api_process = subprocess.Popen(\n",
        "            [\"python3\", \"run_api.py\"],\n",
        "            stdout=subprocess.PIPE,\n",
        "            stderr=subprocess.PIPE,\n",
        "            text=True,\n",
        "            bufsize=1,\n",
        "            universal_newlines=True\n",
        "        )\n",
        "        \n",
        "        print(f\"API service started with PID: {api_process.pid}\")\n",
        "        \n",
        "        # Wait for API to start up\n",
        "        print(\"Waiting for API service to start...\")\n",
        "        time.sleep(3)\n",
        "        \n",
        "        # Check if API is responding and healthy\n",
        "        for attempt in range(15):\n",
        "            try:\n",
        "                response = requests.get(f\"{API_BASE_URL}/api/v1/health\", timeout=5)\n",
        "                if response.status_code == 200:\n",
        "                    health_data = response.json()\n",
        "                    if health_data.get(\"status\") == \"healthy\":\n",
        "                        print(\"API service is ready and healthy!\")\n",
        "                        return True\n",
        "                    else:\n",
        "                        print(f\"API responding but not healthy yet: {health_data.get('status', 'unknown')}\")\n",
        "            except requests.exceptions.RequestException:\n",
        "                pass\n",
        "            \n",
        "            time.sleep(2)\n",
        "            print(f\"Waiting for API... (attempt {attempt + 1}/15)\")\n",
        "        \n",
        "        print(\"API service may not have started properly or is not healthy\")\n",
        "        return False\n",
        "        \n",
        "    except Exception as e:\n",
        "        print(f\"Error starting API service: {e}\")\n",
        "        return False\n",
        "\n",
        "# Start the API service\n",
        "api_started = start_api_service()\n"
      ]
    },
    {
      "cell_type": "markdown",
      "metadata": {},
      "source": [
        "## 5. Open Web Interface\n",
        "\n",
        "Open the web interface in your browser for interactive testing.\n"
      ]
    },
    {
      "cell_type": "code",
      "execution_count": 5,
      "metadata": {},
      "outputs": [
        {
          "name": "stdout",
          "output_type": "stream",
          "text": [
            "Opening web interface in browser...\n",
            "Opened web interface: http://127.0.0.1:8000/\n",
            "\n",
            "Available URLs:\n",
            "Web Interface: http://127.0.0.1:8000/\n",
            "API Documentation: http://127.0.0.1:8000/docs\n",
            "Alternative Docs: http://127.0.0.1:8000/redoc\n",
            "Health Check: http://127.0.0.1:8000/api/v1/health\n"
          ]
        }
      ],
      "source": [
        "def open_web_interface():\n",
        "    \"\"\"Open the web interface and API documentation in browser.\"\"\"\n",
        "    if not api_started:\n",
        "        print(\"Cannot open web interface - API service not started\")\n",
        "        return\n",
        "    \n",
        "    print(\"Opening web interface in browser...\")\n",
        "    \n",
        "    # Open main web interface\n",
        "    try:\n",
        "        webbrowser.open(f\"{API_BASE_URL}/\")\n",
        "        print(f\"Opened web interface: {API_BASE_URL}/\")\n",
        "    except Exception as e:\n",
        "        print(f\"Could not open web interface: {e}\")\n",
        "    \n",
        "    # Also provide links for manual opening\n",
        "    print(\"\\nAvailable URLs:\")\n",
        "    print(f\"Web Interface: {API_BASE_URL}/\")\n",
        "    print(f\"API Documentation: {API_BASE_URL}/docs\")\n",
        "    print(f\"Alternative Docs: {API_BASE_URL}/redoc\")\n",
        "    print(f\"Health Check: {API_BASE_URL}/api/v1/health\")\n",
        "\n",
        "# Open web interface\n",
        "open_web_interface()"
      ]
    },
    {
      "cell_type": "markdown",
      "metadata": {},
      "source": [
        "## 6. Teardown & Cleanup\n",
        "\n",
        "**Important:** Run this cell when you're finished to properly shut down services and free up system resources.\n"
      ]
    },
    {
      "cell_type": "code",
      "execution_count": 6,
      "metadata": {},
      "outputs": [],
      "source": [
        "def cleanup_services():\n",
        "    \"\"\"Stop API service and infrastructure.\"\"\"\n",
        "    global api_process\n",
        "    \n",
        "    print(\"Cleaning up services...\")\n",
        "    \n",
        "    # Stop API service\n",
        "    if api_process is not None:\n",
        "        print(\"Stopping API service...\")\n",
        "        try:\n",
        "            api_process.terminate()\n",
        "            api_process.wait(timeout=10)\n",
        "            print(f\"API service stopped (PID: {api_process.pid})\")\n",
        "        except subprocess.TimeoutExpired:\n",
        "            print(\"Force killing API service...\")\n",
        "            api_process.kill()\n",
        "            api_process.wait()\n",
        "        except Exception as e:\n",
        "            print(f\"Error stopping API service: {e}\")\n",
        "        finally:\n",
        "            api_process = None\n",
        "    \n",
        "    # Stop infrastructure services\n",
        "    print(\"Stopping infrastructure services...\")\n",
        "    os.chdir(project_root)\n",
        "    \n",
        "    try:\n",
        "        result = subprocess.run(\n",
        "            [\"docker-compose\", \"down\"],\n",
        "            capture_output=True,\n",
        "            text=True,\n",
        "            timeout=30\n",
        "        )\n",
        "        print(\"Infrastructure services stopped\")\n",
        "        if result.stderr:\n",
        "            print(f\"Warnings: {result.stderr}\")\n",
        "    except subprocess.TimeoutExpired:\n",
        "        print(\"Timeout stopping infrastructure - containers may still be running\")\n",
        "    except Exception as e:\n",
        "        print(f\"Error stopping infrastructure: {e}\")\n",
        "    \n",
        "    print(\"\\nCleanup completed!\")\n",
        "    print(\"All services should now be stopped.\")"
      ]
    },
    {
      "cell_type": "code",
      "execution_count": 7,
      "metadata": {},
      "outputs": [],
      "source": [
        "# Uncomment the line below to run cleanup\n",
        "# cleanup_services()"
      ]
    }
  ],
  "metadata": {
    "kernelspec": {
      "display_name": ".venv",
      "language": "python",
      "name": "python3"
    },
    "language_info": {
      "codemirror_mode": {
        "name": "ipython",
        "version": 3
      },
      "file_extension": ".py",
      "mimetype": "text/x-python",
      "name": "python",
      "nbconvert_exporter": "python",
      "pygments_lexer": "ipython3",
      "version": "3.10.16"
    }
  },
  "nbformat": 4,
  "nbformat_minor": 2
}
